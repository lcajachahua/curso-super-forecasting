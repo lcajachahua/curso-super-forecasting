{
 "cells": [
  {
   "cell_type": "markdown",
   "metadata": {
    "id": "gNiN5Ljk151Y"
   },
   "source": [
    "# Caso: Analizando el nivel de CO2 en el aire\n",
    "\n",
    "### Cargando los datos"
   ]
  },
  {
   "cell_type": "code",
   "execution_count": null,
   "metadata": {
    "colab": {
     "base_uri": "https://localhost:8080/"
    },
    "id": "ce2iD3L32td-",
    "outputId": "794c7b7a-91a6-4361-e37e-87b26b14dafa"
   },
   "outputs": [],
   "source": [
    "import pandas as pd\n",
    "co2_levels = pd.read_csv('co2_levels.csv')\n",
    "print(co2_levels)"
   ]
  },
  {
   "cell_type": "code",
   "execution_count": null,
   "metadata": {
    "id": "-M12-26Z2z8P"
   },
   "outputs": [],
   "source": [
    "print(co2_levels.dtypes)"
   ]
  },
  {
   "cell_type": "markdown",
   "metadata": {
    "id": "wLyOB25crg9h"
   },
   "source": [
    "### Es necesario transformar el DataFrame en una serie de tiempo"
   ]
  },
  {
   "cell_type": "code",
   "execution_count": null,
   "metadata": {
    "id": "uIEqd-xmrg9i"
   },
   "outputs": [],
   "source": [
    "co2_levels['datestamp'] = pd.to_datetime(co2_levels.datestamp)"
   ]
  },
  {
   "cell_type": "code",
   "execution_count": null,
   "metadata": {
    "id": "2c_OFydcrg9i"
   },
   "outputs": [],
   "source": [
    "co2_levels.set_index('datestamp',inplace=True)"
   ]
  },
  {
   "cell_type": "markdown",
   "metadata": {
    "id": "tOhA08T8rg9i"
   },
   "source": [
    "### Revisamos si existen valores missing"
   ]
  },
  {
   "cell_type": "code",
   "execution_count": null,
   "metadata": {
    "colab": {
     "base_uri": "https://localhost:8080/"
    },
    "id": "fDGhcVw6rg9j",
    "outputId": "43656fd8-64ea-45af-eef4-c9f0a940aadf"
   },
   "outputs": [],
   "source": [
    "print(co2_levels.isnull().sum())"
   ]
  },
  {
   "cell_type": "markdown",
   "metadata": {
    "id": "r6A7fDTIrg9j"
   },
   "source": [
    "### Imputamos utilizando el siguiente dato válido (bfill)"
   ]
  },
  {
   "cell_type": "code",
   "execution_count": null,
   "metadata": {
    "id": "QdafNw0r4vLV"
   },
   "outputs": [],
   "source": [
    "co2_levels = co2_levels.fillna(method='bfill')"
   ]
  },
  {
   "cell_type": "code",
   "execution_count": null,
   "metadata": {
    "colab": {
     "base_uri": "https://localhost:8080/"
    },
    "id": "knaMlMqWrg9k",
    "outputId": "66a23d98-418e-427c-e363-f542cd72fd13"
   },
   "outputs": [],
   "source": [
    "print(co2_levels.isnull().sum())"
   ]
  },
  {
   "cell_type": "markdown",
   "metadata": {
    "id": "KlOAB4evrg9k"
   },
   "source": [
    "### Descomponemos la Serie con seasonal_decompose"
   ]
  },
  {
   "cell_type": "code",
   "execution_count": null,
   "metadata": {
    "colab": {
     "base_uri": "https://localhost:8080/",
     "height": 1000
    },
    "id": "vRz0EHQg7Qu6",
    "outputId": "908be74b-b19a-4786-b76b-1e5e2d236469"
   },
   "outputs": [],
   "source": [
    "import statsmodels.api as sm\n",
    "import matplotlib.pyplot as plt\n",
    "from pylab import rcParams\n",
    "rcParams['figure.figsize'] = 11, 24\n",
    "decomposition = sm.tsa.seasonal_decompose(co2_levels['co2'])\n",
    "fig = decomposition.plot()\n",
    "plt.show()"
   ]
  },
  {
   "cell_type": "markdown",
   "metadata": {
    "id": "h8NFVDsb8MBz"
   },
   "source": [
    "### Construimos un intervalo utilizando medias y desviaciones móviles"
   ]
  },
  {
   "cell_type": "code",
   "execution_count": null,
   "metadata": {
    "colab": {
     "base_uri": "https://localhost:8080/",
     "height": 517
    },
    "id": "LIr320nQ8MOc",
    "outputId": "fc195cd2-8c2a-4d77-b3b6-75d70551e028"
   },
   "outputs": [],
   "source": [
    "rcParams['figure.figsize'] = 11, 8\n",
    "\n",
    "# Compute the 52 weeks rolling mean of the co2_levels DataFrame\n",
    "ma = co2_levels.rolling(window=52).mean()\n",
    "\n",
    "# Compute the 52 weeks rolling standard deviation of the co2_levels DataFrame\n",
    "mstd = co2_levels.rolling(window=52).std()\n",
    "\n",
    "# Add the upper bound column to the ma DataFrame\n",
    "ma['upper'] = ma['co2'] + (mstd['co2'] * 2)\n",
    "\n",
    "# Add the lower bound column to the ma DataFrame\n",
    "ma['lower'] = ma['co2'] - (mstd['co2'] * 2)\n",
    "\n",
    "# Plot the content of the ma DataFrame\n",
    "ax = ma.plot(linewidth=0.8, fontsize=6)\n",
    "\n",
    "# Specify labels, legend, and show the plot\n",
    "ax.set_xlabel('Date', fontsize=10)\n",
    "ax.set_ylabel('CO2 levels in Mauai Hawaii', fontsize=10)\n",
    "ax.set_title('Rolling mean and variance of CO2 levels\\nin Mauai Hawaii from 1958 to 2001', fontsize=10)\n",
    "plt.show();"
   ]
  },
  {
   "cell_type": "markdown",
   "metadata": {},
   "source": [
    "### Ahora probamos generando varios modelos de tipo SARIMA para hacer los pronósticos"
   ]
  },
  {
   "cell_type": "code",
   "execution_count": null,
   "metadata": {
    "colab": {
     "base_uri": "https://localhost:8080/"
    },
    "id": "QmRCLcG-xiH4",
    "outputId": "aa20acb5-4efd-48f5-a5ec-f693725f95f8"
   },
   "outputs": [],
   "source": [
    "import itertools\n",
    "\n",
    "# Define the p, d and q parameters to take any value between 0 and 2\n",
    "p = d = q = range(0, 2)\n",
    "\n",
    "# Generate all different combinations of p, d and q triplets\n",
    "pdq = list(itertools.product(p, d, q))\n",
    "\n",
    "# Generate all different combinations of seasonal p, q and q triplets\n",
    "seasonal_pdq = [(x[0], x[1], x[2], 12) for x in list(itertools.product(p, d, q))]\n",
    "\n",
    "print('Examples of parameter combinations for Seasonal ARIMA...')\n",
    "print('SARIMAX: {} x {}'.format(pdq[1], seasonal_pdq[1]))\n",
    "print('SARIMAX: {} x {}'.format(pdq[1], seasonal_pdq[2]))\n",
    "print('SARIMAX: {} x {}'.format(pdq[2], seasonal_pdq[3]))\n",
    "print('SARIMAX: {} x {}'.format(pdq[2], seasonal_pdq[4]))"
   ]
  },
  {
   "cell_type": "code",
   "execution_count": null,
   "metadata": {
    "colab": {
     "base_uri": "https://localhost:8080/"
    },
    "id": "i8O1pfzYxipi",
    "outputId": "a1ca8f19-a54d-4c5e-ad0d-474660fff56e"
   },
   "outputs": [],
   "source": [
    "import warnings\n",
    "import numpy as np\n",
    "warnings.filterwarnings(\"ignore\") # specify to ignore warning messages\n",
    "\n",
    "best_aic = np.inf\n",
    "best_pdq = None\n",
    "best_seasonal_pdq = None\n",
    "\n",
    "for param in pdq:\n",
    "    for param_seasonal in seasonal_pdq:\n",
    "        \n",
    "        try:\n",
    "            model = sm.tsa.statespace.SARIMAX(co2_levels,\n",
    "                                             order = param,\n",
    "                                             seasonal_order = param_seasonal,\n",
    "                                             enforce_stationarity=False,\n",
    "                                             enforce_invertibility=False)\n",
    "            results = model.fit()\n",
    "\n",
    "            # print(\"SARIMAX{}x{}12 - AIC:{}\".format(param, param_seasonal, results.aic))\n",
    "            if results.aic < best_aic:\n",
    "                best_aic = results.aic\n",
    "                best_pdq = param\n",
    "                best_seasonal_pdq = param_seasonal\n",
    "        except:\n",
    "            continue\n",
    "print(\"Best SARIMAX{}x{}12 model - AIC:{}\".format(best_pdq, best_seasonal_pdq, best_aic))"
   ]
  },
  {
   "cell_type": "markdown",
   "metadata": {
    "id": "-Vxv2x09xisa"
   },
   "source": [
    "### Elegimos el mejor modelo de acuerdo a la métrica AIC"
   ]
  },
  {
   "cell_type": "code",
   "execution_count": null,
   "metadata": {
    "id": "7QxogXNcwC_K"
   },
   "outputs": [],
   "source": [
    "best_model = sm.tsa.statespace.SARIMAX(co2_levels,\n",
    "                                      order=(1, 1, 1),\n",
    "                                      seasonal_order=(1, 0, 1, 12),\n",
    "                                      enforce_stationarity=False,\n",
    "                                      enforce_invertibility=False)\n",
    "results = best_model.fit()"
   ]
  },
  {
   "cell_type": "code",
   "execution_count": null,
   "metadata": {
    "colab": {
     "base_uri": "https://localhost:8080/"
    },
    "id": "AyeJtfpDwbat",
    "outputId": "b5adf9c9-9774-4761-be96-30adc24fe625"
   },
   "outputs": [],
   "source": [
    "print(results.summary().tables[0])\n",
    "print(results.summary().tables[1])"
   ]
  },
  {
   "cell_type": "code",
   "execution_count": null,
   "metadata": {
    "colab": {
     "base_uri": "https://localhost:8080/",
     "height": 730
    },
    "id": "nxMQE7cHwfpM",
    "outputId": "a88b897b-28f1-4124-8c4c-0dc34b12e46c"
   },
   "outputs": [],
   "source": [
    "results.plot_diagnostics(figsize=(15,12))\n",
    "plt.show()"
   ]
  },
  {
   "cell_type": "markdown",
   "metadata": {},
   "source": [
    "### Generamos el pronóstico para los siguientes meses"
   ]
  },
  {
   "cell_type": "code",
   "execution_count": null,
   "metadata": {
    "id": "RW9LqAu9xPtc"
   },
   "outputs": [],
   "source": [
    "pred = results.get_prediction(start=pd.to_datetime('2002-01-05'), end=pd.to_datetime('2002-03-30'), dynamic=False)\n",
    "pred_ci = pred.conf_int()"
   ]
  },
  {
   "cell_type": "code",
   "execution_count": null,
   "metadata": {
    "colab": {
     "base_uri": "https://localhost:8080/",
     "height": 206
    },
    "id": "jLtp66AQxpAt",
    "outputId": "37b06b30-892e-4261-ea46-8b898b0804a4"
   },
   "outputs": [],
   "source": [
    "pred_ci.head(5)"
   ]
  },
  {
   "cell_type": "code",
   "execution_count": null,
   "metadata": {
    "colab": {
     "base_uri": "https://localhost:8080/",
     "height": 388
    },
    "id": "UteFSoBnxpDV",
    "outputId": "9074a69a-a668-410b-f1d5-06781e2e746d"
   },
   "outputs": [],
   "source": [
    "plt.close()\n",
    "axis = co2_levels['1990':].plot(figsize=(10, 6))\n",
    "pred.predicted_mean.plot(ax=axis, label='One-step ahead Forecast', alpha=0.7)\n",
    "axis.fill_between(pred_ci.index, pred_ci.iloc[:, 0], pred_ci.iloc[:, 1], color='k', alpha=.25)\n",
    "axis.set_xlabel('Date')\n",
    "axis.set_ylabel('CO2 Levels')\n",
    "plt.legend(loc='best')\n",
    "plt.show()"
   ]
  },
  {
   "cell_type": "markdown",
   "metadata": {
    "id": "TeUfPoHErg9m"
   },
   "source": [
    "Copyright 2022. Elaborado por Luis Cajachahua bajo licencia MIT"
   ]
  }
 ],
 "metadata": {
  "colab": {
   "collapsed_sections": [],
   "name": "Untitled0.ipynb",
   "provenance": []
  },
  "kernelspec": {
   "display_name": "Python 3",
   "language": "python",
   "name": "python3"
  },
  "language_info": {
   "codemirror_mode": {
    "name": "ipython",
    "version": 3
   },
   "file_extension": ".py",
   "mimetype": "text/x-python",
   "name": "python",
   "nbconvert_exporter": "python",
   "pygments_lexer": "ipython3",
   "version": "3.8.8"
  }
 },
 "nbformat": 4,
 "nbformat_minor": 4
}
