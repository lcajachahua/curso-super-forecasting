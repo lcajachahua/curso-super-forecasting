{
 "cells": [
  {
   "cell_type": "markdown",
   "metadata": {
    "id": "gNiN5Ljk151Y"
   },
   "source": [
    "# Caso: Analizando el nivel de CO2 en el aire\n",
    "\n",
    "### Cargando los datos"
   ]
  },
  {
   "cell_type": "code",
   "execution_count": null,
   "metadata": {
    "colab": {
     "base_uri": "https://localhost:8080/"
    },
    "executionInfo": {
     "elapsed": 256,
     "status": "ok",
     "timestamp": 1632942316941,
     "user": {
      "displayName": "Luis Angel",
      "photoUrl": "https://lh3.googleusercontent.com/a-/AOh14GiQeGYk2jOtxjEapbLun-w4778nNwrhW-q_Q9gVHg=s64",
      "userId": "07449682534608655453"
     },
     "user_tz": 300
    },
    "id": "ce2iD3L32td-",
    "outputId": "aed1ed0c-e401-40c8-fd63-52851ddc202b"
   },
   "outputs": [],
   "source": [
    "import pandas as pd\n",
    "co2_levels = pd.read_csv('../data/co2_levels.csv')\n",
    "print(co2_levels)"
   ]
  },
  {
   "cell_type": "code",
   "execution_count": null,
   "metadata": {
    "colab": {
     "base_uri": "https://localhost:8080/"
    },
    "executionInfo": {
     "elapsed": 2,
     "status": "ok",
     "timestamp": 1632942319735,
     "user": {
      "displayName": "Luis Angel",
      "photoUrl": "https://lh3.googleusercontent.com/a-/AOh14GiQeGYk2jOtxjEapbLun-w4778nNwrhW-q_Q9gVHg=s64",
      "userId": "07449682534608655453"
     },
     "user_tz": 300
    },
    "id": "-M12-26Z2z8P",
    "outputId": "1c7cb4dd-0362-488f-dc4a-b677986abb52"
   },
   "outputs": [],
   "source": [
    "print(co2_levels.dtypes)"
   ]
  },
  {
   "cell_type": "markdown",
   "metadata": {},
   "source": [
    "### Es necesario transformar el DataFrame en una serie de tiempo"
   ]
  },
  {
   "cell_type": "code",
   "execution_count": null,
   "metadata": {},
   "outputs": [],
   "source": [
    "co2_levels['datestamp'] = pd.to_datetime(co2_levels.datestamp)"
   ]
  },
  {
   "cell_type": "code",
   "execution_count": null,
   "metadata": {},
   "outputs": [],
   "source": [
    "co2_levels.set_index('datestamp',inplace=True)"
   ]
  },
  {
   "cell_type": "markdown",
   "metadata": {},
   "source": [
    "### Revisamos si existen valores missing"
   ]
  },
  {
   "cell_type": "code",
   "execution_count": null,
   "metadata": {},
   "outputs": [],
   "source": [
    "print(co2_levels.isnull().sum())"
   ]
  },
  {
   "cell_type": "markdown",
   "metadata": {},
   "source": [
    "### Imputamos utilizando el siguiente dato válido (bfill)"
   ]
  },
  {
   "cell_type": "code",
   "execution_count": null,
   "metadata": {
    "executionInfo": {
     "elapsed": 287,
     "status": "ok",
     "timestamp": 1632942323658,
     "user": {
      "displayName": "Luis Angel",
      "photoUrl": "https://lh3.googleusercontent.com/a-/AOh14GiQeGYk2jOtxjEapbLun-w4778nNwrhW-q_Q9gVHg=s64",
      "userId": "07449682534608655453"
     },
     "user_tz": 300
    },
    "id": "QdafNw0r4vLV"
   },
   "outputs": [],
   "source": [
    "co2_levels = co2_levels.fillna(method='bfill')"
   ]
  },
  {
   "cell_type": "code",
   "execution_count": null,
   "metadata": {},
   "outputs": [],
   "source": [
    "print(co2_levels.isnull().sum())"
   ]
  },
  {
   "cell_type": "markdown",
   "metadata": {},
   "source": [
    "### Descomponemos la Serie con seasonal_decompose"
   ]
  },
  {
   "cell_type": "code",
   "execution_count": null,
   "metadata": {
    "colab": {
     "base_uri": "https://localhost:8080/",
     "height": 657
    },
    "executionInfo": {
     "elapsed": 1877,
     "status": "ok",
     "timestamp": 1632942336327,
     "user": {
      "displayName": "Luis Angel",
      "photoUrl": "https://lh3.googleusercontent.com/a-/AOh14GiQeGYk2jOtxjEapbLun-w4778nNwrhW-q_Q9gVHg=s64",
      "userId": "07449682534608655453"
     },
     "user_tz": 300
    },
    "id": "vRz0EHQg7Qu6",
    "outputId": "999ed65e-5d3b-4c11-85f1-bd2547e4a32f"
   },
   "outputs": [],
   "source": [
    "import statsmodels.api as sm\n",
    "import matplotlib.pyplot as plt\n",
    "from pylab import rcParams\n",
    "rcParams['figure.figsize'] = 11, 24\n",
    "decomposition = sm.tsa.seasonal_decompose(co2_levels['co2'])\n",
    "fig = decomposition.plot()\n",
    "plt.show()"
   ]
  },
  {
   "cell_type": "markdown",
   "metadata": {
    "id": "h8NFVDsb8MBz"
   },
   "source": [
    "### Construimos un intervalo utilizando medias y desviaciones móviles"
   ]
  },
  {
   "cell_type": "code",
   "execution_count": null,
   "metadata": {
    "id": "LIr320nQ8MOc"
   },
   "outputs": [],
   "source": [
    "rcParams['figure.figsize'] = 11, 8\n",
    "\n",
    "# Compute the 52 weeks rolling mean of the co2_levels DataFrame\n",
    "ma = co2_levels.rolling(window=52).mean()\n",
    "\n",
    "# Compute the 52 weeks rolling standard deviation of the co2_levels DataFrame\n",
    "mstd = co2_levels.rolling(window=52).std()\n",
    "\n",
    "# Add the upper bound column to the ma DataFrame\n",
    "ma['upper'] = ma['co2'] + (mstd['co2'] * 2)\n",
    "\n",
    "# Add the lower bound column to the ma DataFrame\n",
    "ma['lower'] = ma['co2'] - (mstd['co2'] * 2)\n",
    "\n",
    "# Plot the content of the ma DataFrame\n",
    "ax = ma.plot(linewidth=0.8, fontsize=6)\n",
    "\n",
    "# Specify labels, legend, and show the plot\n",
    "ax.set_xlabel('Date', fontsize=10)\n",
    "ax.set_ylabel('CO2 levels in Mauai Hawaii', fontsize=10)\n",
    "ax.set_title('Rolling mean and variance of CO2 levels\\nin Mauai Hawaii from 1958 to 2001', fontsize=10)\n",
    "plt.show();"
   ]
  },
  {
   "cell_type": "markdown",
   "metadata": {},
   "source": [
    "Copyright 2021. Elaborado por Luis Cajachahua bajo licencia MIT"
   ]
  }
 ],
 "metadata": {
  "colab": {
   "authorship_tag": "ABX9TyP69/P802JoWJCiHvzisTxI",
   "collapsed_sections": [],
   "name": "Untitled0.ipynb",
   "provenance": []
  },
  "kernelspec": {
   "display_name": "Python 3",
   "language": "python",
   "name": "python3"
  },
  "language_info": {
   "codemirror_mode": {
    "name": "ipython",
    "version": 3
   },
   "file_extension": ".py",
   "mimetype": "text/x-python",
   "name": "python",
   "nbconvert_exporter": "python",
   "pygments_lexer": "ipython3",
   "version": "3.7.6"
  }
 },
 "nbformat": 4,
 "nbformat_minor": 4
}
